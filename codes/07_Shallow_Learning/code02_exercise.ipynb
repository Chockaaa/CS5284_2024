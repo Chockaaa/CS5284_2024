{
 "cells": [
  {
   "cell_type": "markdown",
   "metadata": {
    "id": "nA14sRZgBpkx"
   },
   "source": [
    "# Lecture : Shallow Graph Feature Learning\n",
    "\n",
    "## Lab 02 : Introduction to Graphs with DGL, NetworkX, PyTorch - Exercise\n",
    "\n",
    "### Xavier Bresson, Guoji Fu  \n",
    "\n",
    "<br>\n",
    "Notebook goals :<br>  \n",
    "• Build a graph with Deep Graph Library (DGL) [1] <br>  \n",
    "• Compute a message-passing function with DGL <br>  \n",
    "• Create a batch of DGL graphs <br>  \n",
    "• Convert DGL graph to NetworkX graph for visualization w/ balanced springs system [2] <br>\n",
    "• Convert DGL graph to PyTorch graph for visualization w/ Laplacian eigenvectors [3] <br>\n",
    "• Conversions between DGL, NetworkX, (dense and sparse) PyTorch graphs <br><br>  \n",
    "\n",
    "[1] Wang et-al, Deep graph library: A graph-centric, highly-performant package for graph neural networks, 2019  \n",
    "https://www.dgl.ai  \n",
    "[2] Kamada, Kawai, An algorithm for drawing general undirected graphs, 1989  \n",
    "https://shorturl.at/fpDV2    \n",
    "[3] Belkin, Niyogi,Laplacian eigenmaps for dimensionality reduction and data representation, 2003  \n",
    "http://graphics.stanford.edu/courses/cs233-20-spring/ReferencedPapers/Laplacian.pdf\n"
   ]
  },
  {
   "cell_type": "code",
   "execution_count": null,
   "metadata": {
    "colab": {
     "base_uri": "https://localhost:8080/"
    },
    "executionInfo": {
     "elapsed": 30930,
     "status": "ok",
     "timestamp": 1728708048957,
     "user": {
      "displayName": "Guoji Fu",
      "userId": "16398754709610840055"
     },
     "user_tz": -480
    },
    "id": "sBf1pnBTBpkz",
    "outputId": "cd378d0e-6141-4ace-cfd7-c471a595c394"
   },
   "outputs": [],
   "source": [
    "# For Google Colaboratory\n",
    "import sys, os\n",
    "if 'google.colab' in sys.modules:\n",
    "    # mount google drive\n",
    "    from google.colab import drive\n",
    "    drive.mount('/content/gdrive')\n",
    "    path_to_file = '/content/gdrive/My Drive/CS5284_2024_codes/codes/07_Shallow_Learning'\n",
    "    print(path_to_file)\n",
    "    # change current path to the folder containing \"path_to_file\"\n",
    "    os.chdir(path_to_file)\n",
    "    !pwd\n",
    "    !pip install dgl==1.0.0 # Install DGL\n"
   ]
  },
  {
   "cell_type": "code",
   "execution_count": 1,
   "metadata": {
    "colab": {
     "base_uri": "https://localhost:8080/"
    },
    "executionInfo": {
     "elapsed": 7697,
     "status": "ok",
     "timestamp": 1728708180019,
     "user": {
      "displayName": "Guoji Fu",
      "userId": "16398754709610840055"
     },
     "user_tz": -480
    },
    "id": "5JjyeCuQBpkz",
    "outputId": "6c9c8ccf-bc94-47f0-ab79-5084bd918ac9"
   },
   "outputs": [],
   "source": [
    "# Libraries\n",
    "import dgl\n",
    "import networkx as nx\n",
    "import matplotlib.pyplot as plt\n",
    "import torch\n",
    "from torch.utils.data import DataLoader\n",
    "import sys; sys.path.insert(0, 'lib/')\n",
    "from lib.utils import compute_LapEig\n"
   ]
  },
  {
   "cell_type": "markdown",
   "metadata": {
    "id": "2M3_BqioGuuL"
   },
   "source": [
    "## Exercise 1 : Build a graph with Deep Graph Library (DGL)"
   ]
  },
  {
   "cell_type": "markdown",
   "metadata": {
    "id": "px69zl_iBpkz"
   },
   "source": [
    "### Question 1.1 : Create a cycle graph of 7 nodes with DGL and convert it to a bidirectional graph\n",
    "\n",
    "Instructions:\n",
    "- Use `dgl.graph(data, num_nodes=None)` to create the graph in DGL.  \n",
    "- The graph is initialized with two lists: one containing the source node indices and the other containing the corresponding destination indices. These lists define all the edges in the graph.\n",
    "- To convert the directed graph into an undirected (bidirectional) graph, you can use `dgl.to_bidirected(graph)`.\n"
   ]
  },
  {
   "cell_type": "code",
   "execution_count": 2,
   "metadata": {
    "colab": {
     "base_uri": "https://localhost:8080/"
    },
    "executionInfo": {
     "elapsed": 331,
     "status": "ok",
     "timestamp": 1728708182948,
     "user": {
      "displayName": "Guoji Fu",
      "userId": "16398754709610840055"
     },
     "user_tz": -480
    },
    "id": "jUOn8wOnBpk0",
    "outputId": "372cd446-3e64-4a32-ec42-67406fe04db6"
   },
   "outputs": [
    {
     "name": "stdout",
     "output_type": "stream",
     "text": [
      "[[0, 1, 2, 3, 4, 5, 6], [1, 2, 3, 4, 5, 6, 0]]\n",
      "Graph(num_nodes=7, num_edges=14,\n",
      "      ndata_schemes={}\n",
      "      edata_schemes={})\n"
     ]
    }
   ],
   "source": [
    "list_src = []\n",
    "list_dst = []\n",
    "num_nodes = 7\n",
    "for i in range(num_nodes):\n",
    "    list_src.append(i)\n",
    "    list_dst.append((i+1)%num_nodes)\n",
    "print([list_src,list_dst])\n",
    "\n",
    "###############################################\n",
    "# YOUR CODE START\n",
    "###############################################\n",
    "\n",
    "# create DGL graph\n",
    "orig_graph_dgl = dgl.graph((list_src, list_dst))\n",
    "\n",
    "# convert the graph to a symmetrize/undirected graph\n",
    "graph_dgl = dgl.to_bidirected(orig_graph_dgl)\n",
    "\n",
    "###############################################\n",
    "# YOUR CODE END\n",
    "###############################################\n",
    "\n",
    "print(graph_dgl)\n"
   ]
  },
  {
   "cell_type": "markdown",
   "metadata": {
    "id": "ErebZPL2Bpk0"
   },
   "source": [
    "### Question 1.2 : Add node and edge features to the previously defined DGL graph\n",
    "\n",
    "Add node in-degrees as the node features and random features as the edge features to the DGL graph.\n",
    "\n",
    "Instructions:\n",
    "- Let `g = dgl.graph(data)` be the DGL graph.\n",
    "- To add node features (e.g. 'in-degree'), use `g.ndata['feat_name']`, where `'feat_name'` is the name of the feature you wish to assign.\n",
    "- To add edge features, use `g.edata['feat_name']`, where `'feat_name'` corresponds to the feature name for the edges.\n",
    "- To compute the in-degrees for the nodes, use `g.in_degrees().view(-1, 1).float()`. This will return a tensor of the in-degrees for each node.\n",
    "- To generate random edge features, use `torch.rand(g.num_edges(), 100)`, which creates random features with 100 dimensions for each edge.\n",
    "- You can obtain the number of edges using `g.num_edges()`.\n"
   ]
  },
  {
   "cell_type": "code",
   "execution_count": 3,
   "metadata": {
    "colab": {
     "base_uri": "https://localhost:8080/"
    },
    "executionInfo": {
     "elapsed": 377,
     "status": "ok",
     "timestamp": 1728709187351,
     "user": {
      "displayName": "Guoji Fu",
      "userId": "16398754709610840055"
     },
     "user_tz": -480
    },
    "id": "yOgmWFTwBpk0",
    "outputId": "57e2689c-b2e9-4296-c428-8c5ab35db828"
   },
   "outputs": [
    {
     "name": "stdout",
     "output_type": "stream",
     "text": [
      "Graph(num_nodes=7, num_edges=14,\n",
      "      ndata_schemes={'feat': Scheme(shape=(1,), dtype=torch.float32)}\n",
      "      edata_schemes={'feat': Scheme(shape=(100,), dtype=torch.float32)})\n"
     ]
    }
   ],
   "source": [
    "###############################################\n",
    "# YOUR CODE START\n",
    "###############################################\n",
    "\n",
    "# Add node in-degrees as node features to the DGL graph\n",
    "graph_dgl.ndata['feat'] = graph_dgl.in_degrees().view(-1, 1).float() # node in-degree\n",
    "\n",
    "# Add random features as edge features to the DGL graph\n",
    "graph_dgl.edata['feat'] =  torch.rand(graph_dgl.num_edges(), 100)# random features\n",
    "\n",
    "###############################################\n",
    "# YOUR CODE END\n",
    "###############################################\n",
    "\n",
    "print(graph_dgl)\n"
   ]
  },
  {
   "cell_type": "markdown",
   "metadata": {
    "id": "t8NlRn3RkuYm"
   },
   "source": []
  },
  {
   "cell_type": "markdown",
   "metadata": {
    "id": "3rpZoDi6Bpk0"
   },
   "source": [
    "## Exercise 2 : Compute a message-passing function with DGL"
   ]
  },
  {
   "cell_type": "markdown",
   "metadata": {
    "id": "zVLZy7WDk0qH"
   },
   "source": [
    "### Question 2.1 : Implement Step 1 of a message-passing function with DGL\n",
    "\n",
    "Define the **Message** function to pass node and edge features along **edges**, i.e. from src/j to dst/i.\n",
    "\n",
    "Hints:\n",
    "- To access the features of destination nodes `dst`, use `edges.dst['feat_name']`, where `'feat_name'` is the name of the feature for the destination nodes.\n",
    "- To access the features of source nodes `src`, use `edges.src['feat_name']`, where `'feat_name'` is the name of the feature for the source nodes.\n",
    "- To access the features of edges, use `edges.data['feat_name']`, where `'feat_name'` is the name of the feature for the edges themselves.\n",
    "  "
   ]
  },
  {
   "cell_type": "code",
   "execution_count": 4,
   "metadata": {
    "id": "7WIrI2mblE-O"
   },
   "outputs": [],
   "source": [
    "# Step 1 of message-passing with DGL\n",
    "#   Node feature and edge features are passed along edges (src/j => dst/i)\n",
    "def message_func(edges):\n",
    "    ###############################################\n",
    "    # YOUR CODE START\n",
    "    ###############################################\n",
    "    # hi with i/dst, size=(E,d=1), E=num_edges\n",
    "    hi = edges.dst['feat']\n",
    "\n",
    "    # hj with j/src, size=(E,d=1)\n",
    "    hj = edges.src['feat']\n",
    "\n",
    "    # eji from src/j to dst/i, size=(E,d=100)\n",
    "    eji = edges.data['feat']\n",
    "\n",
    "    # update edge feature value\n",
    "    edges.data['feat'] = 2 * edges.data['feat']\n",
    "\n",
    "    ###############################################\n",
    "    # YOUR CODE END\n",
    "    ###############################################\n",
    "    print('hi',hi.size())\n",
    "    print('hj',hj.size())\n",
    "    print('eji',eji.size())\n",
    "\n",
    "    return {'hj' : hj, 'eji' : eji} # send message={hj, eji} to node dst/i"
   ]
  },
  {
   "cell_type": "markdown",
   "metadata": {
    "id": "-kvtLs_TlFyB"
   },
   "source": [
    "### Question 2.2 : Implement Step 2 of amessage-passing with DGL\n",
    "\n",
    "Define the **Reduce** function to compute the sum of all messages `{hj, eji}` sent to the **nodes** `dst/i` in Step 1.\n",
    "\n",
    "Hints:\n",
    "- To access the node features for each destination node `dst/i`, use `nodes.data['feat_name']`, where `'feat_name'` is the name of the feature.\n",
    "- To access the received messages for the feature `hj`, use `nodes.mailbox['hj']`, which provides the incoming messages for each node.\n",
    "- To access the received edge features `eji`, use `nodes.mailbox['eji']`.\n",
    "- Update the node feature for each node `i` according to the equation:\n",
    "$$h_i \\leftarrow h_i + \\sum_{j \\in N(i)}e_{ji} \\cdot h_j,$$\n",
    "  where $N(i)$ is the set of neighbors of node i.\n"
   ]
  },
  {
   "cell_type": "code",
   "execution_count": 5,
   "metadata": {
    "colab": {
     "base_uri": "https://localhost:8080/"
    },
    "executionInfo": {
     "elapsed": 359,
     "status": "ok",
     "timestamp": 1728709195959,
     "user": {
      "displayName": "Guoji Fu",
      "userId": "16398754709610840055"
     },
     "user_tz": -480
    },
    "id": "tiPyx7fMBpk0",
    "outputId": "fb9ef747-3dec-4259-9e85-2de7d84b7789"
   },
   "outputs": [
    {
     "name": "stdout",
     "output_type": "stream",
     "text": [
      "hi torch.Size([14, 1])\n",
      "hj torch.Size([14, 1])\n",
      "eji torch.Size([14, 100])\n",
      "hi torch.Size([7, 1])\n",
      "hj torch.Size([7, 2, 1])\n",
      "eji torch.Size([7, 2, 100])\n",
      "h torch.Size([7, 100])\n"
     ]
    }
   ],
   "source": [
    "# Step 2 of message-passing with DGL:\n",
    "# Reduce function collects all messages={hj, eji} sent to node dst/i with Step 1\n",
    "def reduce_func(nodes):\n",
    "    ###############################################\n",
    "    # YOUR CODE START\n",
    "    ###############################################\n",
    "\n",
    "    # get node features for each node dst/i, size=(N,d=1), N=num_nodes\n",
    "    hi = nodes.data['feat']\n",
    "\n",
    "    # get all node features sent to node dst/i, size=(N,|Nj|,d=1), |Nj|=num_neighbors\n",
    "    hj = nodes.mailbox['hj']\n",
    "\n",
    "    # get all edge features sent to node dst/i, size=(N,|Nj|,d=100), |Nj|=num_neighbors\n",
    "    eji = nodes.mailbox['eji']\n",
    "\n",
    "    # Update node feature by: h = hi + sum_j eta_ji * hj, size=(N,d=100)\n",
    "    h = hi + torch.sum( eji * hj, dim=1 )\n",
    "\n",
    "    ###############################################\n",
    "    # YOUR CODE END\n",
    "    ###############################################\n",
    "\n",
    "    print('hi',hi.size())\n",
    "    print('hj',hj.size())\n",
    "    print('eji',eji.size())\n",
    "    print('h',h.size())\n",
    "    return {'h' : h} # return update node feature hi\n",
    "\n",
    "graph_dgl.update_all(message_func,reduce_func) # update the node and edge features with DGL\n"
   ]
  },
  {
   "cell_type": "markdown",
   "metadata": {
    "id": "Yl5fKEbmBpk1"
   },
   "source": [
    "## Exercise 3: Create a batch of (two) DGL graphs\n",
    "\n",
    "Define a **collate** function to prepare a batch of graphs, labels and other graph features (if available).\n",
    "\n",
    "Instructions:\n",
    "- Let `graphs` be a set of DGL graphs.\n",
    "- Use `dgl.batch(graphs)` to combine the individual graphs into a single batch.\n",
    "  "
   ]
  },
  {
   "cell_type": "code",
   "execution_count": 6,
   "metadata": {
    "colab": {
     "base_uri": "https://localhost:8080/"
    },
    "executionInfo": {
     "elapsed": 359,
     "status": "ok",
     "timestamp": 1728709206289,
     "user": {
      "displayName": "Guoji Fu",
      "userId": "16398754709610840055"
     },
     "user_tz": -480
    },
    "id": "glviIxoEBpk1",
    "outputId": "457dfc5d-b471-4a6e-c0b9-bddb81fafd91"
   },
   "outputs": [
    {
     "name": "stdout",
     "output_type": "stream",
     "text": [
      "g1, label1 Graph(num_nodes=8, num_edges=16,\n",
      "      ndata_schemes={'feat': Scheme(shape=(1,), dtype=torch.float32)}\n",
      "      edata_schemes={'feat': Scheme(shape=(100,), dtype=torch.float32)}) tensor(0)\n",
      "g2, label2 Graph(num_nodes=16, num_edges=32,\n",
      "      ndata_schemes={'feat': Scheme(shape=(1,), dtype=torch.float32)}\n",
      "      edata_schemes={'feat': Scheme(shape=(100,), dtype=torch.float32)}) tensor(1)\n",
      "trainset [[Graph(num_nodes=8, num_edges=16,\n",
      "      ndata_schemes={'feat': Scheme(shape=(1,), dtype=torch.float32)}\n",
      "      edata_schemes={'feat': Scheme(shape=(100,), dtype=torch.float32)}), tensor(0)], [Graph(num_nodes=16, num_edges=32,\n",
      "      ndata_schemes={'feat': Scheme(shape=(1,), dtype=torch.float32)}\n",
      "      edata_schemes={'feat': Scheme(shape=(100,), dtype=torch.float32)}), tensor(1)]]\n",
      "batch_graphs Graph(num_nodes=24, num_edges=48,\n",
      "      ndata_schemes={'feat': Scheme(shape=(1,), dtype=torch.float32)}\n",
      "      edata_schemes={'feat': Scheme(shape=(100,), dtype=torch.float32)})\n",
      "batch_labels tensor([0, 1])\n",
      "batch_x: torch.Size([24, 1])\n",
      "batch_e: torch.Size([48, 100])\n"
     ]
    }
   ],
   "source": [
    "# generate two DGL graphs\n",
    "list_src = torch.randperm(8).tolist()\n",
    "list_dst = torch.randperm(8).tolist()\n",
    "graph_dgl = dgl.graph((list_src, list_dst))\n",
    "graph_dgl = dgl.to_bidirected(graph_dgl)\n",
    "graph_dgl.ndata['feat'] = graph_dgl.in_degrees().view(-1, 1).float() # node in-degree\n",
    "graph_dgl.edata['feat'] = torch.rand(graph_dgl.num_edges(), 100) # random features\n",
    "g1 = graph_dgl\n",
    "label1 = torch.tensor(0).long()\n",
    "print('g1, label1', g1, label1)\n",
    "list_src = torch.randperm(16).tolist()\n",
    "list_dst = torch.randperm(16).tolist()\n",
    "graph_dgl = dgl.graph((list_src, list_dst))\n",
    "graph_dgl = dgl.to_bidirected(graph_dgl)\n",
    "graph_dgl.ndata['feat'] = graph_dgl.in_degrees().view(-1, 1).float() # node in-degree\n",
    "graph_dgl.edata['feat'] = torch.rand(graph_dgl.num_edges(), 100) # random features\n",
    "g2 = graph_dgl\n",
    "label2 = torch.tensor(1).long()\n",
    "print('g2, label2', g2, label2)\n",
    "trainset = [ [g1, label1] , [g2, label2] ]\n",
    "print('trainset', trainset)\n",
    "\n",
    "# define collate function prepares a batch of graphs, labels and other graph features (if needed)\n",
    "def collate(samples):\n",
    "    # Input sample is a list of pairs (graph, label)\n",
    "    graphs, labels = map(list, zip(*samples))\n",
    "\n",
    "    ###############################################\n",
    "    # YOUR CODE START\n",
    "    ###############################################\n",
    "\n",
    "    batch_graphs =  dgl.batch(graphs)# batch of graphs\n",
    "    batch_labels =  torch.tensor(labels)# batch of labels\n",
    "\n",
    "    ###############################################\n",
    "    # YOUR CODE END\n",
    "    ###############################################\n",
    "\n",
    "    return batch_graphs, batch_labels\n",
    "\n",
    "# Generate a batch of graphs\n",
    "batch_size = 2\n",
    "train_loader = DataLoader(trainset, batch_size=batch_size, shuffle=True, collate_fn=collate)\n",
    "batch_graphs, batch_labels = list(train_loader)[0]\n",
    "print('batch_graphs', batch_graphs)\n",
    "print('batch_labels', batch_labels)\n",
    "batch_x = batch_graphs.ndata['feat']\n",
    "print('batch_x:',batch_x.size())\n",
    "batch_e = batch_graphs.edata['feat']\n",
    "print('batch_e:',batch_e.size())\n"
   ]
  },
  {
   "cell_type": "markdown",
   "metadata": {
    "id": "MUXoME05NJgK"
   },
   "source": [
    "## Exercise 4 : Conversions between DGL, NetworkX, (dense and sparse) PyTorch graphs"
   ]
  },
  {
   "cell_type": "markdown",
   "metadata": {
    "id": "-gH17nlABpk1"
   },
   "source": [
    "### Question 4.1 : Convert a DGL graph to a NetworkX graph\n",
    "\n",
    "Instructions:\n",
    "- Let `g` be a DGL graph.\n",
    "- Use `g.to_networkx()` to convert `g` to a NetworkX graph.\n",
    "  "
   ]
  },
  {
   "cell_type": "code",
   "execution_count": 7,
   "metadata": {
    "executionInfo": {
     "elapsed": 382,
     "status": "ok",
     "timestamp": 1728709214073,
     "user": {
      "displayName": "Guoji Fu",
      "userId": "16398754709610840055"
     },
     "user_tz": -480
    },
    "id": "xxdlZ9HUBpk1"
   },
   "outputs": [],
   "source": [
    "# build dgl graph\n",
    "list_src = []\n",
    "list_dst = []\n",
    "num_nodes = 7\n",
    "for i in range(num_nodes):\n",
    "    list_src.append(i)\n",
    "    list_dst.append((i+1)%num_nodes)\n",
    "graph_dgl = dgl.graph((list_src, list_dst))\n",
    "graph_dgl = dgl.to_bidirected(graph_dgl)\n",
    "\n",
    "###############################################\n",
    "# YOUR CODE START\n",
    "###############################################\n",
    "\n",
    "# dgl => networkx\n",
    "graph_nx = graph_dgl.to_networkx()\n",
    "\n",
    "###############################################\n",
    "# YOUR CODE END\n",
    "###############################################\n"
   ]
  },
  {
   "cell_type": "markdown",
   "metadata": {
    "id": "ARpLrNK_Bpk1"
   },
   "source": [
    "### Question 4.2 : Visualise a graph with NetworkX\n",
    "\n",
    "Instructions:\n",
    "- Let `g` be a NetworkX graph,\n",
    "- Use `networkx.draw(g)` to visualize a graph with networkx.\n",
    "  "
   ]
  },
  {
   "cell_type": "code",
   "execution_count": 8,
   "metadata": {
    "colab": {
     "base_uri": "https://localhost:8080/",
     "height": 428
    },
    "executionInfo": {
     "elapsed": 769,
     "status": "ok",
     "timestamp": 1728709218632,
     "user": {
      "displayName": "Guoji Fu",
      "userId": "16398754709610840055"
     },
     "user_tz": -480
    },
    "id": "Kyi7DrYGBpk1",
    "outputId": "2e992863-c71d-4b16-a5d4-a458c0a1ff7d"
   },
   "outputs": [
    {
     "data": {
      "image/png": "[encoded data removed]",
      "text/plain": [
       "<Figure size 640x480 with 1 Axes>"
      ]
     },
     "metadata": {},
     "output_type": "display_data"
    }
   ],
   "source": [
    "fig = plt.figure()\n",
    "ax = fig.add_subplot(111)\n",
    "\n",
    "###############################################\n",
    "# YOUR CODE START\n",
    "###############################################\n",
    "\n",
    "nx.draw(graph_nx, ax=ax, with_labels=True, font_size=10) # visualise node indexes\n",
    "\n",
    "###############################################\n",
    "# YOUR CODE END\n",
    "###############################################\n",
    "\n",
    "ax.title.set_text('Graph visualization with networkx')\n",
    "plt.show()\n"
   ]
  },
  {
   "cell_type": "markdown",
   "metadata": {
    "id": "8FHsXr4wBpk1"
   },
   "source": [
    "### Question 4.3 : Visualise a graph with the eigenvectors (i.e. map a graph to a k-dim Euclidean space)\n",
    "\n",
    "Instructions:\n",
    "- Let `g` be a DGL graph.\n",
    "- Use `compute_LapEig()` to get the first two eigenvectors of a DGL graph.\n",
    "- Visualise the graph with the obtained two eigenvectors.\n",
    "  "
   ]
  },
  {
   "cell_type": "code",
   "execution_count": 9,
   "metadata": {
    "colab": {
     "base_uri": "https://localhost:8080/",
     "height": 452
    },
    "executionInfo": {
     "elapsed": 763,
     "status": "ok",
     "timestamp": 1728709226510,
     "user": {
      "displayName": "Guoji Fu",
      "userId": "16398754709610840055"
     },
     "user_tz": -480
    },
    "id": "bn3Bgk8wBpk1",
    "outputId": "f4df2638-99ef-4560-8a9d-4407aa8807e4"
   },
   "outputs": [
    {
     "data": {
      "image/png": "[encoded data removed]",
      "text/plain": [
       "<Figure size 640x480 with 1 Axes>"
      ]
     },
     "metadata": {},
     "output_type": "display_data"
    }
   ],
   "source": [
    "fig = plt.figure()\n",
    "ax = fig.add_subplot(111)\n",
    "x = compute_LapEig(graph_dgl, 2)\n",
    "ax.scatter(x[:,0], x[:,1])\n",
    "idx = list(range(graph_dgl.number_of_nodes()))\n",
    "for i, txt in enumerate(idx):\n",
    "    ax.annotate(txt, (x[:,0][i], x[:,1][i]), textcoords=\"offset points\", xytext=(1,5))\n",
    "ax.title.set_text('2D embedding of nodes')\n",
    "plt.show()\n"
   ]
  },
  {
   "cell_type": "markdown",
   "metadata": {
    "id": "GRXG4T56Bpk1"
   },
   "source": [
    "### Question 4.4 : Convert a DGL graph to a PyTorch tensor\n",
    "\n",
    "Hints:\n",
    "- Let `g` be a DGL graph.\n",
    "- Use `g.adj().to_dense()` to convert `g` to a PyTorch tensor.\n"
   ]
  },
  {
   "cell_type": "code",
   "execution_count": 10,
   "metadata": {
    "colab": {
     "base_uri": "https://localhost:8080/"
    },
    "executionInfo": {
     "elapsed": 486,
     "status": "ok",
     "timestamp": 1728709231752,
     "user": {
      "displayName": "Guoji Fu",
      "userId": "16398754709610840055"
     },
     "user_tz": -480
    },
    "id": "aaoV-s23Bpk1",
    "outputId": "6ae7c68f-f7ac-4a9a-b2db-1f0ae251d9ef"
   },
   "outputs": [
    {
     "name": "stdout",
     "output_type": "stream",
     "text": [
      "tensor([[0., 1., 0., 0., 0., 0., 1.],\n",
      "        [1., 0., 1., 0., 0., 0., 0.],\n",
      "        [0., 1., 0., 1., 0., 0., 0.],\n",
      "        [0., 0., 1., 0., 1., 0., 0.],\n",
      "        [0., 0., 0., 1., 0., 1., 0.],\n",
      "        [0., 0., 0., 0., 1., 0., 1.],\n",
      "        [1., 0., 0., 0., 0., 1., 0.]])\n"
     ]
    }
   ],
   "source": [
    "###############################################\n",
    "# YOUR CODE START\n",
    "###############################################\n",
    "\n",
    "graph_pytorch = graph_dgl.adj().to_dense()\n",
    "\n",
    "###############################################\n",
    "# YOUR CODE END\n",
    "###############################################\n",
    "\n",
    "print(graph_pytorch)\n"
   ]
  },
  {
   "cell_type": "markdown",
   "metadata": {
    "id": "p8UoypDEBpk2"
   },
   "source": [
    "## All type convertors\n",
    "\n",
    "NetworkX  \n",
    "https://networkx.org/documentation/stable/reference/convert.html\n",
    "\n",
    "Sparse PyTorch  \n",
    "https://pytorch.org/docs/stable/sparse.html\n",
    "\n",
    "DGL   \n",
    "https://docs.dgl.ai/api/python/dgl.sparse_v0.html#sparse-matrix-class"
   ]
  },
  {
   "cell_type": "code",
   "execution_count": 11,
   "metadata": {
    "colab": {
     "base_uri": "https://localhost:8080/"
    },
    "executionInfo": {
     "elapsed": 727,
     "status": "ok",
     "timestamp": 1728709238611,
     "user": {
      "displayName": "Guoji Fu",
      "userId": "16398754709610840055"
     },
     "user_tz": -480
    },
    "id": "rU6LOegDBpk2",
    "outputId": "449ac8dc-ab1d-4d73-f5c5-828f8972fbdc"
   },
   "outputs": [
    {
     "name": "stdout",
     "output_type": "stream",
     "text": [
      "# dgl\n",
      " Graph(num_nodes=7, num_edges=14,\n",
      "      ndata_schemes={}\n",
      "      edata_schemes={}) <class 'dgl.heterograph.DGLGraph'>\n",
      "\n",
      "\n",
      "# dgl => networkx\n",
      " MultiDiGraph with 7 nodes and 14 edges <class 'networkx.classes.multidigraph.MultiDiGraph'>\n",
      "\n",
      "\n",
      "# networkx => dgl\n",
      " Graph(num_nodes=7, num_edges=14,\n",
      "      ndata_schemes={}\n",
      "      edata_schemes={}) <class 'dgl.heterograph.DGLGraph'>\n",
      "Note: Node and edge features must be re-generated!\n",
      "\n",
      "\n",
      "# networkx => (coo) sparse pytorch\n",
      " tensor(indices=tensor([[0, 0, 1, 1, 2, 2, 3, 3, 4, 4, 5, 5, 6, 6],\n",
      "                       [1, 6, 0, 2, 1, 3, 2, 4, 3, 5, 4, 6, 0, 5]]),\n",
      "       values=tensor([1, 1, 1, 1, 1, 1, 1, 1, 1, 1, 1, 1, 1, 1]),\n",
      "       size=(7, 7), nnz=14, layout=torch.sparse_coo) <class 'torch.Tensor'>\n",
      "\n",
      "\n",
      "# (coo) sparse pytorch => networkx\n",
      " Graph with 7 nodes and 7 edges <class 'networkx.classes.graph.Graph'>\n",
      "\n",
      "\n",
      "# (coo) sparse pytorch => dense pytorch\n",
      " tensor([[0, 1, 0, 0, 0, 0, 1],\n",
      "        [1, 0, 1, 0, 0, 0, 0],\n",
      "        [0, 1, 0, 1, 0, 0, 0],\n",
      "        [0, 0, 1, 0, 1, 0, 0],\n",
      "        [0, 0, 0, 1, 0, 1, 0],\n",
      "        [0, 0, 0, 0, 1, 0, 1],\n",
      "        [1, 0, 0, 0, 0, 1, 0]]) <class 'torch.Tensor'>\n",
      "\n",
      "\n",
      "# dense pytorch => (coo) sparse pytorch\n",
      " tensor(indices=tensor([[0, 0, 1, 1, 2, 2, 3, 3, 4, 4, 5, 5, 6, 6],\n",
      "                       [1, 6, 0, 2, 1, 3, 2, 4, 3, 5, 4, 6, 0, 5]]),\n",
      "       values=tensor([1, 1, 1, 1, 1, 1, 1, 1, 1, 1, 1, 1, 1, 1]),\n",
      "       size=(7, 7), nnz=14, layout=torch.sparse_coo) <class 'torch.Tensor'>\n",
      "\n",
      "\n",
      "# dgl => (coo) sparse pytorch\n",
      " SparseMatrix(indices=tensor([[0, 0, 1, 1, 2, 2, 3, 3, 4, 4, 5, 5, 6, 6],\n",
      "                             [1, 6, 0, 2, 1, 3, 2, 4, 3, 5, 4, 6, 0, 5]]),\n",
      "             values=tensor([1., 1., 1., 1., 1., 1., 1., 1., 1., 1., 1., 1., 1., 1.]),\n",
      "             shape=(7, 7), nnz=14) <class 'dgl.sparse.sparse_matrix.SparseMatrix'>\n",
      "\n",
      "\n",
      "# dgl => dense pytorch\n",
      " tensor([[0., 1., 0., 0., 0., 0., 1.],\n",
      "        [1., 0., 1., 0., 0., 0., 0.],\n",
      "        [0., 1., 0., 1., 0., 0., 0.],\n",
      "        [0., 0., 1., 0., 1., 0., 0.],\n",
      "        [0., 0., 0., 1., 0., 1., 0.],\n",
      "        [0., 0., 0., 0., 1., 0., 1.],\n",
      "        [1., 0., 0., 0., 0., 1., 0.]]) <class 'torch.Tensor'>\n",
      "\n",
      "\n"
     ]
    }
   ],
   "source": [
    "# dgl\n",
    "print('# dgl\\n',graph_dgl, type(graph_dgl)); print('\\n')\n",
    "\n",
    "# dgl => networkx\n",
    "graph_nx = graph_dgl.to_networkx()\n",
    "print('# dgl => networkx\\n',graph_nx, type(graph_nx)); print('\\n')\n",
    "\n",
    "# networkx => dgl\n",
    "graph_dgl = dgl.from_networkx(graph_nx)\n",
    "print('# networkx => dgl\\n',graph_dgl, type(graph_dgl))\n",
    "print('Note: Node and edge features must be re-generated!'); print('\\n')\n",
    "\n",
    "# networkx => (coo) sparse pytorch\n",
    "# Note: edges in sparse pytorch are structured as [ list_src, list_dst ]\n",
    "src=[]; dst=[]; [(src.append(edge[0]), dst.append(edge[1])) for edge in nx.to_edgelist(graph_nx)] # extract list of edges\n",
    "graph_sptorch = torch.sparse_coo_tensor([src, dst], [1]*len(src), size=(num_nodes,num_nodes))\n",
    "print('# networkx => (coo) sparse pytorch\\n',graph_sptorch, type(graph_sptorch)); print('\\n')\n",
    "\n",
    "# (coo) sparse pytorch => networkx\n",
    "# Note: edges in networkx are structure as [ list(src,dst) ]\n",
    "indices = graph_sptorch.coalesce().indices()\n",
    "values = graph_sptorch.coalesce().values()\n",
    "src = indices[0].tolist(); dst = indices[1].tolist(); list_edges = [edge for edge in zip(src,dst)]\n",
    "graph_nx = nx.Graph(list_edges)\n",
    "print('# (coo) sparse pytorch => networkx\\n', graph_nx, type(graph_nx)); print('\\n')\n",
    "\n",
    "# (coo) sparse pytorch => dense pytorch\n",
    "graph_pytorch = graph_sptorch.to_dense()\n",
    "print('# (coo) sparse pytorch => dense pytorch\\n', graph_pytorch, type(graph_pytorch)); print('\\n')\n",
    "\n",
    "# dense pytorch => (coo) sparse pytorch\n",
    "graph_sptorch = graph_pytorch.to_sparse()\n",
    "print('# dense pytorch => (coo) sparse pytorch\\n', graph_sptorch, type(graph_sptorch)); print('\\n')\n",
    "\n",
    "# dgl => (coo) sparse pytorch\n",
    "graph_sptorch = graph_dgl.adj()\n",
    "print('# dgl => (coo) sparse pytorch\\n', graph_sptorch, type(graph_sptorch)); print('\\n')\n",
    "\n",
    "# dgl => (coo) sparse pytorch => dense pytorch\n",
    "graph_pytorch = graph_dgl.adj().to_dense()\n",
    "print('# dgl => dense pytorch\\n', graph_pytorch, type(graph_pytorch)); print('\\n')\n",
    "\n"
   ]
  }
 ],
 "metadata": {
  "colab": {
   "provenance": []
  },
  "kernelspec": {
   "display_name": "Python 3 (ipykernel)",
   "language": "python",
   "name": "python3"
  },
  "language_info": {
   "codemirror_mode": {
    "name": "ipython",
    "version": 3
   },
   "file_extension": ".py",
   "mimetype": "text/x-python",
   "name": "python",
   "nbconvert_exporter": "python",
   "pygments_lexer": "ipython3",
   "version": "3.8.19"
  }
 },
 "nbformat": 4,
 "nbformat_minor": 4
}
